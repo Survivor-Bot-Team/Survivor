{
 "cells": [
  {
   "cell_type": "code",
   "execution_count": 1,
   "id": "7e6ee39a",
   "metadata": {},
   "outputs": [
    {
     "name": "stdout",
     "output_type": "stream",
     "text": [
      "Team A: [48, 50, 51, 51, 37] | Total Level: 237\n",
      "Team B: [35, 50, 50, 51, 52] | Total Level: 238\n",
      "Level Difference: 1\n"
     ]
    }
   ],
   "source": [
    "from itertools import combinations\n",
    "\n",
    "def balance_teams(levels):\n",
    "    n = len(levels)\n",
    "    if n % 2 != 0:\n",
    "        raise ValueError(\"Number of players must be even (e.g., 8 or 10).\")\n",
    "\n",
    "    team_size = n // 2\n",
    "    total_level = sum(levels)\n",
    "    min_diff = float('inf')\n",
    "    best_team_a = []\n",
    "\n",
    "    for combo in combinations(levels, team_size):\n",
    "        team_a = list(combo)\n",
    "        team_b = list(levels)\n",
    "        for lvl in team_a:\n",
    "            team_b.remove(lvl)\n",
    "        \n",
    "        diff = abs(sum(team_a) - sum(team_b))\n",
    "        if diff < min_diff:\n",
    "            min_diff = diff\n",
    "            best_team_a = team_a\n",
    "\n",
    "    team_b = list(levels)\n",
    "    for lvl in best_team_a:\n",
    "        team_b.remove(lvl)\n",
    "\n",
    "    return best_team_a, team_b, sum(best_team_a), sum(team_b), abs(sum(best_team_a) - sum(team_b))\n",
    "\n",
    "# Example usage:\n",
    "levels = [48, 50, 51, 35, 51, 50, 50, 37, 51, 52]  # 10 players\n",
    "team_a, team_b, sum_a, sum_b, diff = balance_teams(levels)\n",
    "\n",
    "print(\"Team A:\", team_a, \"| Total Level:\", sum_a)\n",
    "print(\"Team B:\", team_b, \"| Total Level:\", sum_b)\n",
    "print(\"Level Difference:\", diff)\n"
   ]
  }
 ],
 "metadata": {
  "kernelspec": {
   "display_name": "Python 3",
   "language": "python",
   "name": "python3"
  },
  "language_info": {
   "codemirror_mode": {
    "name": "ipython",
    "version": 3
   },
   "file_extension": ".py",
   "mimetype": "text/x-python",
   "name": "python",
   "nbconvert_exporter": "python",
   "pygments_lexer": "ipython3",
   "version": "3.10.0"
  }
 },
 "nbformat": 4,
 "nbformat_minor": 5
}
